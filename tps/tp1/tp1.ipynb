{
 "cells": [
  {
   "cell_type": "markdown",
   "metadata": {},
   "source": [
    "# Scraping: récupération de la page d'accueil du journal Le Soir\n",
    "\n",
    "Dans ce notebook, nous créons un robot qui va ouvrir la page d'accueil du site du journal [Le Soir](https://www.lesoir.be/) et récupérer le titre de tous les articles du jour et les stocker dans un fichier csv."
   ]
  },
  {
   "cell_type": "markdown",
   "metadata": {},
   "source": [
    "## Imports"
   ]
  },
  {
   "cell_type": "code",
   "execution_count": null,
   "metadata": {},
   "outputs": [
    {
     "name": "stdout",
     "output_type": "stream",
     "text": [
      "Téléchargement de https://max.de.wilde.web.ulb.be/camille/KB_JB230_1892-08-07_01-0003.pdf\n",
      "Téléchargement de https://max.de.wilde.web.ulb.be/camille/KB_JB427_1920-01-10_01-00004.pdf\n",
      "Téléchargement de https://max.de.wilde.web.ulb.be/camille/KB_JB555_1836-02-08_01-00002.pdf\n",
      "Téléchargement de https://max.de.wilde.web.ulb.be/camille/KB_JB638_1860-05-21_01-00002.pdf\n",
      "Téléchargement de https://max.de.wilde.web.ulb.be/camille/KB_JB773_1918-11-30_01-00002.pdf\n",
      "Téléchargement de https://max.de.wilde.web.ulb.be/camille/KB_JB838_1887-12-28_01-00003.pdf\n",
      "Téléchargement de https://max.de.wilde.web.ulb.be/camille/KB_JB230_1903-10-16_01-0002.pdf\n",
      "Téléchargement de https://max.de.wilde.web.ulb.be/camille/KB_JB427_1933-01-04_01-00003.pdf\n",
      "Téléchargement de https://max.de.wilde.web.ulb.be/camille/KB_JB555_1899-01-19_01-00003.pdf\n",
      "Téléchargement de https://max.de.wilde.web.ulb.be/camille/KB_JB638_1902-12-20_01-00002.pdf\n",
      "Téléchargement de https://max.de.wilde.web.ulb.be/camille/KB_JB773_1933-10-07_01-00007.pdf\n",
      "Téléchargement de https://max.de.wilde.web.ulb.be/camille/KB_JB838_1911-08-03_01-00006.pdf\n",
      "Téléchargement de https://max.de.wilde.web.ulb.be/camille/KB_JB230_1913-07-05_01-0001.pdf\n",
      "Téléchargement de https://max.de.wilde.web.ulb.be/camille/KB_JB427_1949-07-18_01-00008.pdf\n",
      "Téléchargement de https://max.de.wilde.web.ulb.be/camille/KB_JB555_1940-03-01_01-00004.pdf\n",
      "Téléchargement de https://max.de.wilde.web.ulb.be/camille/KB_JB638_1946-07-18_01-00003.pdf\n",
      "Téléchargement de https://max.de.wilde.web.ulb.be/camille/KB_JB773_1950-07-22_01-00010.pdf\n",
      "Téléchargement de https://max.de.wilde.web.ulb.be/camille/KB_JB838_1943-09-04_01-00002.pdf\n",
      "Téléchargement de https://max.de.wilde.web.ulb.be/camille/KB_JB258_1884-09-03_01-0003.pdf\n",
      "Téléchargement de https://max.de.wilde.web.ulb.be/camille/KB_JB449_1846-05-30_01-00002.pdf\n",
      "Téléchargement de https://max.de.wilde.web.ulb.be/camille/KB_JB567_1857-02-02_01-00003.pdf\n",
      "Téléchargement de https://max.de.wilde.web.ulb.be/camille/KB_JB685_1894-05-14_01-0003.pdf\n",
      "Téléchargement de https://max.de.wilde.web.ulb.be/camille/KB_JB835_1911-04-24_01-00004.pdf\n",
      "Téléchargement de https://max.de.wilde.web.ulb.be/camille/KB_JB92_1860-02-09_01-00003.pdf\n",
      "Téléchargement de https://max.de.wilde.web.ulb.be/camille/KB_JB258_1894-12-09_01-0003.pdf\n",
      "Téléchargement de https://max.de.wilde.web.ulb.be/camille/KB_JB449_1912-01-04_01-00003.pdf\n",
      "Téléchargement de https://max.de.wilde.web.ulb.be/camille/KB_JB567_1892-01-03_01-00005.pdf\n",
      "Téléchargement de https://max.de.wilde.web.ulb.be/camille/KB_JB685_1903-01-18_01-0002.pdf\n",
      "Téléchargement de https://max.de.wilde.web.ulb.be/camille/KB_JB835_1930-04-08_01-00006.pdf\n",
      "Téléchargement de https://max.de.wilde.web.ulb.be/camille/KB_JB92_1873-02-06_01-00002.pdf\n",
      "Téléchargement de https://max.de.wilde.web.ulb.be/camille/KB_JB258_1906-01-09_01-0002.pdf\n",
      "Téléchargement de https://max.de.wilde.web.ulb.be/camille/KB_JB449_1947-08-29_01-00003.pdf\n",
      "Téléchargement de https://max.de.wilde.web.ulb.be/camille/KB_JB567_1924-08-30_01-00003.pdf\n",
      "Téléchargement de https://max.de.wilde.web.ulb.be/camille/KB_JB685_1913-06-07_01-0006.pdf\n",
      "Téléchargement de https://max.de.wilde.web.ulb.be/camille/KB_JB835_1949-09-18_01-00004.pdf\n",
      "Téléchargement de https://max.de.wilde.web.ulb.be/camille/KB_JB92_1885-09-29_01-00002.pdf\n",
      "Téléchargement de https://max.de.wilde.web.ulb.be/camille/KB_JB421_1899-05-15_01-00003.pdf\n",
      "Téléchargement de https://max.de.wilde.web.ulb.be/camille/KB_JB494_1853-10-30_01-0002.pdf\n",
      "Téléchargement de https://max.de.wilde.web.ulb.be/camille/KB_JB572_1850-03-15_01-00003.pdf\n",
      "Téléchargement de https://max.de.wilde.web.ulb.be/camille/KB_JB729_1895-10-08_01-00003.pdf\n",
      "Téléchargement de https://max.de.wilde.web.ulb.be/camille/KB_JB837_1886-12-28_01-00002.pdf\n",
      "Téléchargement de https://max.de.wilde.web.ulb.be/camille/KB_JB421_1926-10-29_01-00002.pdf\n",
      "Téléchargement de https://max.de.wilde.web.ulb.be/camille/KB_JB494_1922-09-28_01-0005.pdf\n",
      "Téléchargement de https://max.de.wilde.web.ulb.be/camille/KB_JB572_1927-07-20_01-00005.pdf\n",
      "Téléchargement de https://max.de.wilde.web.ulb.be/camille/KB_JB729_1927-11-15_01-00004.pdf\n",
      "Téléchargement de https://max.de.wilde.web.ulb.be/camille/KB_JB837_1925-01-01_01-00003.pdf\n",
      "Téléchargement de https://max.de.wilde.web.ulb.be/camille/KB_JB421_1950-04-15_01-00004.pdf\n",
      "Téléchargement de https://max.de.wilde.web.ulb.be/camille/KB_JB494_1939-12-08_01-0004.pdf\n",
      "Téléchargement de https://max.de.wilde.web.ulb.be/camille/KB_JB572_1950-06-07_01-00004.pdf\n",
      "Téléchargement de https://max.de.wilde.web.ulb.be/camille/KB_JB729_1939-10-31_01-00006.pdf\n",
      "Téléchargement de https://max.de.wilde.web.ulb.be/camille/KB_JB837_1950-12-01_01-00007.pdf\n",
      "✅ Téléchargés : 51 fichiers PDF.\n"
     ]
    }
   ],
   "source": [
    "import os\n",
    "import requests\n",
    "from bs4 import BeautifulSoup\n",
    "\n",
    "# URL racine\n",
    "root_url = \"https://max.de.wilde.web.ulb.be/camille/\"\n",
    "\n",
    "# Headers pour éviter le blocage du serveur\n",
    "headers = {\n",
    "    \"User-Agent\": \"Mozilla/5.0 (Windows NT 10.0; Win64; x64)\"\n",
    "}\n",
    "\n",
    "# Récupération de la page\n",
    "response = requests.get(root_url, headers=headers)\n",
    "soup = BeautifulSoup(response.text, \"html.parser\")\n",
    "\n",
    "# Extraction des liens PDF\n",
    "pdf_links = [a['href'] for a in soup.find_all(\"a\") if a['href'].endswith(\".pdf\")]\n",
    "\n",
    "# Création dossier pour sauvegarder les PDFs\n",
    "os.makedirs(\"pdfs\", exist_ok=True)\n",
    "\n",
    "# Téléchargement des fichiers\n",
    "for link in pdf_links:\n",
    "    pdf_url = root_url + link  # lien complet\n",
    "    file_name = os.path.join(\"pdfs\", link)\n",
    "    print(f\"Téléchargement de {pdf_url}\")\n",
    "    pdf_data = requests.get(pdf_url, headers=headers)\n",
    "    with open(file_name, \"wb\") as f:\n",
    "        f.write(pdf_data.content)\n",
    "\n",
    "print(f\"✅ Téléchargés : {len(pdf_links)} fichiers PDF.\")\n"
   ]
  },
  {
   "cell_type": "code",
   "execution_count": null,
   "metadata": {},
   "outputs": [
    {
     "name": "stdout",
     "output_type": "stream",
     "text": [
      "🚀 L'ISS est actuellement à la latitude 50.6010 et longitude 119.5311.\n"
     ]
    }
   ],
   "source": [
    "import requests\n",
    "\n",
    "# API sans HTTPS (pas de problème SSL)\n",
    "url = \"http://api.open-notify.org/iss-now.json\"\n",
    "\n",
    "response = requests.get(url)\n",
    "if response.status_code == 200:\n",
    "    data = response.json()\n",
    "    position = data[\"iss_position\"]\n",
    "    print(f\" L'ISS est actuellement à la latitude {position['latitude']} et longitude {position['longitude']}.\")\n",
    "else:\n",
    "    print(\"Erreur API :\", response.status_code)\n"
   ]
  }
 ],
 "metadata": {
  "kernelspec": {
   "display_name": "Python 3",
   "language": "python",
   "name": "python3"
  },
  "language_info": {
   "codemirror_mode": {
    "name": "ipython",
    "version": 3
   },
   "file_extension": ".py",
   "mimetype": "text/x-python",
   "name": "python",
   "nbconvert_exporter": "python",
   "pygments_lexer": "ipython3",
   "version": "3.11.9"
  }
 },
 "nbformat": 4,
 "nbformat_minor": 4
}
